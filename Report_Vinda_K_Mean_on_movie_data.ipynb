{
  "nbformat": 4,
  "nbformat_minor": 0,
  "metadata": {
    "colab": {
      "name": "Report_Vinda_K-Mean_on movie data.ipynb",
      "provenance": [],
      "collapsed_sections": [],
      "authorship_tag": "ABX9TyMz5Es4zrEYfKr0t0Mw+27k",
      "include_colab_link": true
    },
    "kernelspec": {
      "name": "python3",
      "display_name": "Python 3"
    },
    "language_info": {
      "name": "python"
    }
  },
  "cells": [
    {
      "cell_type": "markdown",
      "metadata": {
        "id": "view-in-github",
        "colab_type": "text"
      },
      "source": [
        "<a href=\"https://colab.research.google.com/github/VindaShinde/ML-basic_Models/blob/main/Report_Vinda_K_Mean_on_movie_data.ipynb\" target=\"_parent\"><img src=\"https://colab.research.google.com/assets/colab-badge.svg\" alt=\"Open In Colab\"/></a>"
      ]
    },
    {
      "cell_type": "code",
      "metadata": {
        "id": "MDHBLbaDLSIv"
      },
      "source": [
        "import matplotlib.pyplot as plt\n",
        "import seaborn as sns\n",
        "from matplotlib.colors import ListedColormap\n",
        "from sklearn import datasets\n",
        "from sklearn.cluster import KMeans\n",
        "import sklearn.metrics as sm\n",
        "from sklearn.preprocessing import StandardScaler\n",
        "\n",
        "from scipy.cluster.hierarchy import linkage, dendrogram\n",
        " \n",
        "import pandas as pd\n",
        "import numpy as np\n",
        "from pandas import DataFrame\n",
        "\n",
        "# Set some pandas options\n",
        "pd.set_option('display.notebook_repr_html', False)\n",
        "pd.set_option('display.max_rows', 60)\n",
        "pd.set_option('display.max_columns', 60)\n",
        "pd.set_option('display.width', 1000)\n",
        " \n",
        "%matplotlib inline"
      ],
      "execution_count": null,
      "outputs": []
    },
    {
      "cell_type": "markdown",
      "metadata": {
        "id": "x60_qOnfNoGa"
      },
      "source": [
        "# 1) Objective of the Project\n",
        "\n",
        "The overall data is obtained from class of 2021 students of UOPI, San Francisco from Data Science course. The data set contains the ratings for different categories of movies based on students likings from 1 to 10.One of the column represent movie categories and in last contains the movies watched by stuents in terms of per week, movies preffered, and described about themselves.\n",
        "\n",
        "The Data Science program wants to organize a movie night for the Masters students. And wants to better understand the students preferences.they also want to know if they could make predictions on new students based on the model created.\n",
        "\n",
        "Therefore, In this report im going to predict about how many movies are they going to watch in a week."
      ]
    },
    {
      "cell_type": "code",
      "metadata": {
        "colab": {
          "base_uri": "https://localhost:8080/"
        },
        "id": "vdRWYLJoLhjB",
        "outputId": "13a85313-2657-4197-a8f8-76e53950a162"
      },
      "source": [
        "Movies_data = pd.read_csv('Class_2020_10_15__01_33_QZ_Movies, Movies & Movies.csv')\n",
        "Movies_data.head(3)"
      ],
      "execution_count": null,
      "outputs": [
        {
          "output_type": "execute_result",
          "data": {
            "text/plain": [
              "        Student Name  Using a scale 1 to 10, how much do you like action movies? (use decimals, e.g. 4.2)  Using a scale 1 to 10, how much do you like adventure movies? (use decimals, e.g. 4.2)  Using a scale 1 to 10, how much do you like comedy movies? (use decimals, e.g. 4.2)  Using a scale 1 to 10, how much do you like crime movies? (use decimals, e.g. 4.2)  Using a scale 1 to 10, how much do you like drama movies?  Using a scale 1 to 10, how much do you like fantasy movies?  Using a scale 1 to 10, how much do you like science fiction movies?  Using a scale 1 to 10, how much do you like horror movies?  Using a scale 1 to 10, how much do you like mystery movies?  Using a scale 1 to 10, how much do you like romance movies?  Using a scale 1 to 10, how much do you like thriller movies?  Using a scale 1 to 10, how much do you like documentary movies?  Using a scale 1 to 10, how much do you like animated movies? On average, how many movies you watch on a single week  \\\n",
              "0  Chao, Christopher                                                7.0                                                                                  8.3                                                                                     6.2                                                                                 6.20                                                                                 4.2                                                       7.40                                                          8.9                                                                  1.0                                                       7.500                                                         2.10                                                         7.90                                                           7.6                                                             9.50                                        B. 2) One movie a week       \n",
              "1       Chen, Yu-Wen                                                9.0                                                                                  7.8                                                                                     9.8                                                                                 9.63                                                                                 6.3                                                       9.85                                                          7.5                                                                  1.2                                                       7.845                                                         9.85                                                         6.38                                                           7.8                                                             8.65                                       C. 3) Two movies a week       \n",
              "2       Chen, Ziheng                                                NaN                                                                                  9.0                                                                                    10.0                                                                                 7.00                                                                                 2.0                                                       6.00                                                          3.0                                                                  9.0                                                         NaN                                                         2.00                                                         9.00                                                           4.0                                                             7.00                                        B. 2) One movie a week       \n",
              "\n",
              "  Which of the following movies you'd say is your preferred? Describe yourself with 5 adjectives. For example:- Capable- Friendly- Happy- Sociable- Slow  \n",
              "0                                           B. Shrek                                                      Happy                                           \n",
              "1                                       D. Spiderman                                                   Friendly                                           \n",
              "2                         A. Star Wars\\nD. Spiderman                                             Friendly Happy                                           "
            ]
          },
          "metadata": {},
          "execution_count": 85
        }
      ]
    },
    {
      "cell_type": "markdown",
      "metadata": {
        "id": "T6IHbdFbNvwT"
      },
      "source": [
        "# 2) Data Exploration"
      ]
    },
    {
      "cell_type": "code",
      "metadata": {
        "id": "ZrthCy4mL9In"
      },
      "source": [
        "Movies_data.columns = [\"Name\",\"Action\",\"Adventure\",\"Comedy\",\"Crime\",\"Drama\",\"Fantacy\",\"Fiction\",\"Horror\",\"Mystery\",\"Romance\",\"Thriller\",\"Documentary\",\"Animated\",\"Weekly\",\"Preferred\",\"Description\"]"
      ],
      "execution_count": null,
      "outputs": []
    },
    {
      "cell_type": "markdown",
      "metadata": {
        "id": "dzWqy5kHVATZ"
      },
      "source": [
        "Renamed the columns\n"
      ]
    },
    {
      "cell_type": "code",
      "metadata": {
        "colab": {
          "base_uri": "https://localhost:8080/"
        },
        "id": "nFjnFYhoO1iE",
        "outputId": "fa5b33e3-af71-4572-e319-ed9216c2ac13"
      },
      "source": [
        "Movies_data.head()"
      ],
      "execution_count": null,
      "outputs": [
        {
          "output_type": "execute_result",
          "data": {
            "text/plain": [
              "                   Name  Action  Adventure   Comedy   Crime     Drama  Fantacy    Fiction   Horror   Mystery   Romance  Thriller  Documentary   Animated                           Weekly                   Preferred                              Description\n",
              "0     Chao, Christopher     7.0       8.30   6.2000  6.2000  4.200000  7.40000   8.900000  1.00000  7.500000  2.100000   7.90000     7.600000   9.500000           B. 2) One movie a week                    B. Shrek                                    Happy\n",
              "1          Chen, Yu-Wen     9.0       7.80   9.8000  9.6300  6.300000  9.85000   7.500000  1.20000  7.845000  9.850000   6.38000     7.800000   8.650000          C. 3) Two movies a week                D. Spiderman                                 Friendly\n",
              "2          Chen, Ziheng     NaN       9.00  10.0000  7.0000  2.000000  6.00000   3.000000  9.00000       NaN  2.000000   9.00000     4.000000   7.000000           B. 2) One movie a week  A. Star Wars\\nD. Spiderman                           Friendly Happy\n",
              "3        Duan, Shangyan    10.0       8.80      NaN  5.1000  1.500000  4.80000  10.000000  2.00000  7.000000  4.680000   4.00000    10.000000  10.000000          C. 3) Two movies a week            G. Jurassic Park       Friendly，Humor，Easygoing，Slow，Kind\n",
              "4  Ferrer, Darrel Steve     9.5       8.67   9.1234  7.8125  9.165423  9.51285   6.812572  5.19672  7.126234  8.912562   8.35137     7.135612   9.127836  E. 5) More than 4 movies a week                A. Star Wars  Friendly Helpful Kind Caring Altruistic"
            ]
          },
          "metadata": {},
          "execution_count": 87
        }
      ]
    },
    {
      "cell_type": "code",
      "metadata": {
        "colab": {
          "base_uri": "https://localhost:8080/"
        },
        "id": "8RdWF6LaO5KM",
        "outputId": "7b96ae57-0cd2-4b41-f3fb-53d067345c2b"
      },
      "source": [
        "Movies_data.info()"
      ],
      "execution_count": null,
      "outputs": [
        {
          "output_type": "stream",
          "name": "stdout",
          "text": [
            "<class 'pandas.core.frame.DataFrame'>\n",
            "RangeIndex: 40 entries, 0 to 39\n",
            "Data columns (total 17 columns):\n",
            " #   Column       Non-Null Count  Dtype  \n",
            "---  ------       --------------  -----  \n",
            " 0   Name         40 non-null     object \n",
            " 1   Action       32 non-null     float64\n",
            " 2   Adventure    32 non-null     float64\n",
            " 3   Comedy       30 non-null     float64\n",
            " 4   Crime        32 non-null     float64\n",
            " 5   Drama        32 non-null     float64\n",
            " 6   Fantacy      33 non-null     float64\n",
            " 7   Fiction      32 non-null     float64\n",
            " 8   Horror       32 non-null     float64\n",
            " 9   Mystery      31 non-null     float64\n",
            " 10  Romance      32 non-null     float64\n",
            " 11  Thriller     32 non-null     float64\n",
            " 12  Documentary  32 non-null     float64\n",
            " 13  Animated     32 non-null     float64\n",
            " 14  Weekly       33 non-null     object \n",
            " 15  Preferred    31 non-null     object \n",
            " 16  Description  33 non-null     object \n",
            "dtypes: float64(13), object(4)\n",
            "memory usage: 5.4+ KB\n"
          ]
        }
      ]
    },
    {
      "cell_type": "code",
      "metadata": {
        "colab": {
          "base_uri": "https://localhost:8080/"
        },
        "id": "oYJoTcKePEsh",
        "outputId": "c4a3b1f4-4cd0-446a-a0cf-32debd16ef18"
      },
      "source": [
        "Movies_data.Weekly.unique()"
      ],
      "execution_count": null,
      "outputs": [
        {
          "output_type": "execute_result",
          "data": {
            "text/plain": [
              "array(['B. 2) One movie a week', 'C. 3) Two movies a week',\n",
              "       'E. 5) More than 4 movies a week', nan,\n",
              "       \"A. 1) zero movies. I don't watch movies\",\n",
              "       'D. 4) Three to four movies a week'], dtype=object)"
            ]
          },
          "metadata": {},
          "execution_count": 89
        }
      ]
    },
    {
      "cell_type": "code",
      "metadata": {
        "id": "6qRuELUvP7Zm"
      },
      "source": [
        "Movies_data.Weekly.replace((\"\"\"A. 1) zero movies. I don't watch movies\"\"\",\n",
        "                            \"B. 2) One movie a week\",\"C. 3) Two movies a week\",\"D. 4) Three to four movies a week\",\n",
        "                            \"E. 5) More than 4 movies a week\"),(0,1,2,3,4), inplace=True)"
      ],
      "execution_count": null,
      "outputs": []
    },
    {
      "cell_type": "markdown",
      "metadata": {
        "id": "i2J0dIcLXrR5"
      },
      "source": [
        "Renamed the Weekly column to get into numbers format. It has 5 different choices selected by the students."
      ]
    },
    {
      "cell_type": "code",
      "metadata": {
        "id": "XwE8hSBHRQMV",
        "colab": {
          "base_uri": "https://localhost:8080/"
        },
        "outputId": "887a39ad-1004-4c88-f9df-80f6f77d6e64"
      },
      "source": [
        "weekly_mode = Movies_data.Weekly.mode().values[0]\n",
        "Movies_data.Weekly.fillna(weekly_mode,inplace=True)\n",
        "\n",
        "Movies_data.Weekly.isna().sum()"
      ],
      "execution_count": null,
      "outputs": [
        {
          "output_type": "execute_result",
          "data": {
            "text/plain": [
              "0"
            ]
          },
          "metadata": {},
          "execution_count": 104
        }
      ]
    },
    {
      "cell_type": "markdown",
      "metadata": {
        "id": "QU-19_JgX_fI"
      },
      "source": [
        "Replaced the Nan values with the **mode** value of weekly column as it is assumed that, rest of students may also have similar trends as they all belong to student group."
      ]
    },
    {
      "cell_type": "code",
      "metadata": {
        "colab": {
          "base_uri": "https://localhost:8080/",
          "height": 361
        },
        "id": "rHbBa2LBSLc1",
        "outputId": "24f92087-1992-47ba-f446-e7f5c0cee1e2"
      },
      "source": [
        "# to find correlation within movies\n",
        "corr = Movies_data.corr()\n",
        "sns.heatmap(corr, annot=True, vmin=-1)\n",
        "plt.title('Movie Correlations for Numeric Features', size=20)\n",
        "plt.xlabel('Features', size=12)\n",
        "plt.ylabel('Features', size=12)\n",
        "plt.show()"
      ],
      "execution_count": null,
      "outputs": [
        {
          "output_type": "display_data",
          "data": {
            "image/png": "[encoded data removed]",
            "text/plain": [
              "<Figure size 432x288 with 2 Axes>"
            ]
          },
          "metadata": {
            "needs_background": "light"
          }
        }
      ]
    },
    {
      "cell_type": "markdown",
      "metadata": {
        "id": "gXFsajVDYcwE"
      },
      "source": [
        "To find if there are any correlation between different movie types to create a logical group of few selective columns."
      ]
    },
    {
      "cell_type": "code",
      "metadata": {
        "colab": {
          "base_uri": "https://localhost:8080/",
          "height": 369
        },
        "id": "wDBdf8CUY6tf",
        "outputId": "5ea500e4-126a-4b0c-c1e5-0bdff3dcf26f"
      },
      "source": [
        "#hist plot for count on movies per week\n",
        "plt.figure(figsize=(15,5))\n",
        "plt.hist(Movies_data.Weekly)\n",
        "plt.title('Movies watched per week', fontsize=14)\n",
        "plt.tight_layout()"
      ],
      "execution_count": null,
      "outputs": [
        {
          "output_type": "display_data",
          "data": {
            "image/png": "[encoded data removed]",
            "text/plain": [
              "<Figure size 1080x360 with 1 Axes>"
            ]
          },
          "metadata": {
            "needs_background": "light"
          }
        }
      ]
    },
    {
      "cell_type": "code",
      "metadata": {
        "colab": {
          "base_uri": "https://localhost:8080/"
        },
        "id": "ytN6KN5zZgBG",
        "outputId": "8fbb2a66-7f0e-4529-b803-f384402870d3"
      },
      "source": [
        "Movies_data.describe()"
      ],
      "execution_count": null,
      "outputs": [
        {
          "output_type": "execute_result",
          "data": {
            "text/plain": [
              "          Action  Adventure     Comedy      Crime      Drama    Fantacy    Fiction     Horror    Mystery    Romance   Thriller  Documentary   Animated     Weekly\n",
              "count  32.000000  32.000000  30.000000  32.000000  32.000000  33.000000  32.000000  32.000000  31.000000  32.000000  32.000000    32.000000  32.000000  40.000000\n",
              "mean    8.271875   7.781777   7.898884   6.624312   5.326987   6.430874   7.959565   4.202194   6.309411   4.967958   5.960931     6.029592   6.615307   1.700000\n",
              "std     1.530599   1.981842   2.021029   2.821408   2.781892   2.778051   2.714946   3.244342   2.780907   2.902380   2.808752     2.871725   2.487203   1.090754\n",
              "min     4.500000   2.100000   2.500000   0.300000   0.000000   1.000000   1.200000   0.100000   1.000000   0.116541   1.000000     1.000000   1.000000   0.000000\n",
              "25%     7.000000   6.692500   7.200000   5.100000   3.000000   4.800000   6.609429   1.177775   5.127406   2.250000   3.925000     4.000000   5.000000   1.000000\n",
              "50%     8.400000   8.055556   8.250000   6.600000   5.750000   6.900000   9.300000   3.070796   6.969697   4.840000   6.700000     6.900000   6.716000   1.000000\n",
              "75%     9.900000   8.916000   9.292407   9.275000   7.500000   8.800000   9.900000   7.000000   8.300000   6.850000   8.413527     7.975000   8.725000   2.000000\n",
              "max    10.000000  10.000000  10.000000  10.000000  10.000000  10.000000  10.000000  10.000000  10.000000   9.990000  10.000000    10.000000  10.000000   4.000000"
            ]
          },
          "metadata": {},
          "execution_count": 189
        }
      ]
    },
    {
      "cell_type": "markdown",
      "metadata": {
        "id": "Mw0ZPkIHZeq0"
      },
      "source": [
        "It is observed that on and avearge 1.7 movies watched by the UOP students. There are different types of movies watched by these students and out of that, I see some correlation between movies type like: 'Comedy','Drama','Fantacy','Horror'. So I am creating a new dataframe for this set."
      ]
    },
    {
      "cell_type": "code",
      "metadata": {
        "colab": {
          "base_uri": "https://localhost:8080/"
        },
        "id": "PGEV0nRO3tup",
        "outputId": "b21c1bd1-367b-49ac-f7f3-e8097e00c652"
      },
      "source": [
        "movies_df_1 = Movies_data[['Comedy','Drama','Fantacy','Horror']]\n",
        "movies_df_1.dropna(inplace=True)\n",
        "movies_df_1 = movies_df_1.astype(int)\n",
        "\n",
        "movies_df_1.head()\n"
      ],
      "execution_count": null,
      "outputs": [
        {
          "output_type": "stream",
          "name": "stderr",
          "text": [
            "/usr/local/lib/python3.7/dist-packages/ipykernel_launcher.py:2: SettingWithCopyWarning: \n",
            "A value is trying to be set on a copy of a slice from a DataFrame\n",
            "\n",
            "See the caveats in the documentation: https://pandas.pydata.org/pandas-docs/stable/user_guide/indexing.html#returning-a-view-versus-a-copy\n",
            "  \n"
          ]
        },
        {
          "output_type": "execute_result",
          "data": {
            "text/plain": [
              "   Comedy  Drama  Fantacy  Horror\n",
              "0       6      4        7       1\n",
              "1       9      6        9       1\n",
              "2      10      2        6       9\n",
              "4       9      9        9       5\n",
              "5       7      3        4       2"
            ]
          },
          "metadata": {},
          "execution_count": 205
        }
      ]
    },
    {
      "cell_type": "markdown",
      "metadata": {
        "id": "zJ7bVvWEN1Gb"
      },
      "source": [
        "# 3) Dendrogram"
      ]
    },
    {
      "cell_type": "code",
      "metadata": {
        "colab": {
          "base_uri": "https://localhost:8080/",
          "height": 484
        },
        "id": "ZbrWfrkrJBE1",
        "outputId": "7ec69686-3195-44cf-9483-cab269d3dbdd"
      },
      "source": [
        "Z = linkage(movies_df_1, 'average')\n",
        "plt.figure(figsize=(25, 10))\n",
        "D = dendrogram(Z=Z, orientation=\"right\", leaf_font_size=9, labels = movies_df_1.index)"
      ],
      "execution_count": null,
      "outputs": [
        {
          "output_type": "display_data",
          "data": {
            "image/png": "[encoded data removed]",
            "text/plain": [
              "<Figure size 1800x720 with 1 Axes>"
            ]
          },
          "metadata": {
            "needs_background": "light"
          }
        }
      ]
    },
    {
      "cell_type": "markdown",
      "metadata": {
        "id": "z8cT4BCk-UvO"
      },
      "source": [
        "The clusters from the above graphs are mainly 4, so will use these for further analysis."
      ]
    },
    {
      "cell_type": "code",
      "metadata": {
        "colab": {
          "base_uri": "https://localhost:8080/",
          "height": 693
        },
        "id": "qlpg_Z4Ec6lv",
        "outputId": "799c0968-46d6-4d2d-c276-7427df6b07af"
      },
      "source": [
        "# To see more details of the clusters \n",
        "from scipy.cluster.hierarchy import fcluster\n",
        "k=5\n",
        "dend_clusters = fcluster(Z, k, criterion='maxclust')\n",
        "\n",
        "for i in range(1, k):\n",
        "    print(\"\\nCluster\", i)\n",
        "    display(movies_df_1[dend_clusters == i])"
      ],
      "execution_count": null,
      "outputs": [
        {
          "output_type": "stream",
          "name": "stdout",
          "text": [
            "\n",
            "Cluster 1\n"
          ]
        },
        {
          "output_type": "display_data",
          "data": {
            "text/plain": [
              "    Comedy  Drama  Fantacy  Horror\n",
              "0        6      4        7       1\n",
              "5        7      3        4       2\n",
              "8        7      5        1       2\n",
              "10       8      8        3       1\n",
              "24       8      4        6       1\n",
              "35       6      6        3       2\n",
              "37       8      7        2       0\n",
              "39       6      7        1       1"
            ]
          },
          "metadata": {}
        },
        {
          "output_type": "stream",
          "name": "stdout",
          "text": [
            "\n",
            "Cluster 2\n"
          ]
        },
        {
          "output_type": "display_data",
          "data": {
            "text/plain": [
              "    Comedy  Drama  Fantacy  Horror\n",
              "1        9      6        9       1\n",
              "4        9      9        9       5\n",
              "9        4      8        9       1\n",
              "13       4      8        6       3\n",
              "30      10      7        8       4\n",
              "34       9      8        9       1\n",
              "36       9      6       10       1"
            ]
          },
          "metadata": {}
        },
        {
          "output_type": "stream",
          "name": "stdout",
          "text": [
            "\n",
            "Cluster 3\n"
          ]
        },
        {
          "output_type": "display_data",
          "data": {
            "text/plain": [
              "    Comedy  Drama  Fantacy  Horror\n",
              "2       10      2        6       9\n",
              "6        9      5        7       5\n",
              "7        8      3        7       5\n",
              "19       7      5        8      10\n",
              "21       9      5        8       4\n",
              "22       7      8        8       9\n",
              "25      10     10        5       8\n",
              "26       8      6        4       5\n",
              "27      10      7        5       7\n",
              "33       8      5        6       7"
            ]
          },
          "metadata": {}
        },
        {
          "output_type": "stream",
          "name": "stdout",
          "text": [
            "\n",
            "Cluster 4\n"
          ]
        },
        {
          "output_type": "display_data",
          "data": {
            "text/plain": [
              "    Comedy  Drama  Fantacy  Horror\n",
              "14       3      0        7       2\n",
              "38       9      1       10       3"
            ]
          },
          "metadata": {}
        }
      ]
    },
    {
      "cell_type": "markdown",
      "metadata": {
        "id": "hPzgH8WFeczO"
      },
      "source": [
        "The 4 clusters details are printed above, these clusters shows some similarities among then and hence to see what are those I have printed these clusters values."
      ]
    },
    {
      "cell_type": "markdown",
      "metadata": {
        "id": "QzXxHE0gN8BX"
      },
      "source": [
        "# 4) Step-by-step K-means"
      ]
    },
    {
      "cell_type": "code",
      "metadata": {
        "colab": {
          "base_uri": "https://localhost:8080/"
        },
        "id": "Mjy2TX9KCl37",
        "outputId": "f320c6d7-b01b-4c86-af2e-6b14bfe1dccf"
      },
      "source": [
        "# Add Random centroids\n",
        "centroid1 = np.array([2,6,5,7])\n",
        "centroid2 = np.array([8,5,4,6])\n",
        "centroid3 = np.array([10,7,5, 3])\n",
        "centroid4 = np.array([5,4,3,2])\n",
        "print(centroid1, centroid2, centroid3,centroid4)"
      ],
      "execution_count": null,
      "outputs": [
        {
          "output_type": "stream",
          "name": "stdout",
          "text": [
            "[2 6 5 7] [8 5 4 6] [10  7  5  3] [5 4 3 2]\n"
          ]
        }
      ]
    },
    {
      "cell_type": "markdown",
      "metadata": {
        "id": "AC6Zjlyoe20G"
      },
      "source": [
        "To start with the clustering's first iteration, I will need to add random cetrorids for the k clusters. Here I have k=4 hence 4 centroids and since I have 4 features, every centroid has 4 values in it."
      ]
    },
    {
      "cell_type": "code",
      "metadata": {
        "colab": {
          "base_uri": "https://localhost:8080/"
        },
        "id": "NOCqz7WmDO3A",
        "outputId": "b6dd2aa0-85f7-41a4-98f3-3c647a02b10d"
      },
      "source": [
        "# To test 1st iteration\n",
        "movies_df_1[\"Dist_C1\"] = np.sqrt((movies_df_1.Comedy - centroid1[0])**2 \n",
        "                             + (movies_df_1.Drama- centroid1[1])**2\n",
        "                             + (movies_df_1.Fantacy- centroid1[2])**2\n",
        "                             + (movies_df_1.Horror- centroid1[3])**2)\n",
        "\n",
        "movies_df_1[\"Dist_C2\"] = np.sqrt((movies_df_1.Comedy - centroid2[0])**2 \n",
        "                             + (movies_df_1.Drama- centroid2[1])**2\n",
        "                             + (movies_df_1.Fantacy- centroid2[2])**2\n",
        "                             + (movies_df_1.Horror- centroid2[3])**2)\n",
        "\n",
        "movies_df_1[\"Dist_C3\"] = np.sqrt((movies_df_1.Comedy - centroid3[0])**2 \n",
        "                             + (movies_df_1.Drama- centroid3[1])**2\n",
        "                             + (movies_df_1.Fantacy- centroid3[2])**2\n",
        "                             + (movies_df_1.Horror- centroid3[3])**2)\n",
        "\n",
        "movies_df_1[\"Dist_C4\"] = np.sqrt((movies_df_1.Comedy - centroid4[0])**2 \n",
        "                             + (movies_df_1.Drama- centroid4[1])**2\n",
        "                             + (movies_df_1.Fantacy- centroid4[2])**2\n",
        "                             + (movies_df_1.Horror- centroid4[3])**2)\n",
        "\n",
        "# Associating points to centroid\n",
        "\n",
        "movies_df_1[\"Association\"] = np.where(\n",
        "    (movies_df_1.Dist_C1 < movies_df_1.Dist_C2) & \n",
        "    (movies_df_1.Dist_C1 < movies_df_1.Dist_C3) & \n",
        "    (movies_df_1.Dist_C1 < movies_df_1.Dist_C4),1,\n",
        "\n",
        "     np.where((movies_df_1.Dist_C2 < movies_df_1.Dist_C1) & \n",
        "    (movies_df_1.Dist_C2 < movies_df_1.Dist_C3) &\n",
        "    (movies_df_1.Dist_C2 < movies_df_1.Dist_C4), 2,\n",
        "    \n",
        "     np.where((movies_df_1.Dist_C3 < movies_df_1.Dist_C1) & \n",
        "    (movies_df_1.Dist_C3 < movies_df_1.Dist_C2) &\n",
        "    (movies_df_1.Dist_C3 < movies_df_1.Dist_C4), 3,4)))\n",
        "\n",
        "\n",
        "movies_df_1.head()"
      ],
      "execution_count": null,
      "outputs": [
        {
          "output_type": "execute_result",
          "data": {
            "text/plain": [
              "   Comedy  Drama  Fantacy  Horror    Dist_C1   Dist_C2   Dist_C3   Dist_C4  Association\n",
              "0       6      4        7       1   7.745967  6.244998  5.744563  4.242641            4\n",
              "1       9      6        9       1  10.049876  7.211103  4.690416  7.549834            3\n",
              "2      10      2        6       9   9.219544  5.099020  7.874008  9.327379            2\n",
              "4       9      9        9       5   8.831761  6.557439  5.000000  9.273618            3\n",
              "5       7      3        4       2   7.745967  4.582576  5.196152  2.449490            4"
            ]
          },
          "metadata": {},
          "execution_count": 209
        }
      ]
    },
    {
      "cell_type": "markdown",
      "metadata": {
        "id": "2Tz95VQRfeiK"
      },
      "source": [
        "As shown in the above code the distance for every cluster with its centriod is added in new columns. Also the association column is added which shows the cluster number to which each students record represents."
      ]
    },
    {
      "cell_type": "markdown",
      "metadata": {
        "id": "8m6tsjlTLaHj"
      },
      "source": [
        "# 5) sklearn.cluster way of finding clusters\n"
      ]
    },
    {
      "cell_type": "code",
      "metadata": {
        "colab": {
          "base_uri": "https://localhost:8080/"
        },
        "id": "m2UMOq17S5xW",
        "outputId": "8157b409-b231-442e-da4d-2d3b1db39fc1"
      },
      "source": [
        "movies_df_1_ = Movies_data[['Comedy','Drama','Fantacy','Horror']]\n",
        "movies_df_1_.dropna(inplace=True)\n",
        "movies_df_1_ = movies_df_1_.astype(int)\n",
        "movies_df_1_.head()"
      ],
      "execution_count": null,
      "outputs": [
        {
          "output_type": "stream",
          "name": "stderr",
          "text": [
            "/usr/local/lib/python3.7/dist-packages/ipykernel_launcher.py:2: SettingWithCopyWarning: \n",
            "A value is trying to be set on a copy of a slice from a DataFrame\n",
            "\n",
            "See the caveats in the documentation: https://pandas.pydata.org/pandas-docs/stable/user_guide/indexing.html#returning-a-view-versus-a-copy\n",
            "  \n"
          ]
        },
        {
          "output_type": "execute_result",
          "data": {
            "text/plain": [
              "   Comedy  Drama  Fantacy  Horror\n",
              "0       6      4        7       1\n",
              "1       9      6        9       1\n",
              "2      10      2        6       9\n",
              "4       9      9        9       5\n",
              "5       7      3        4       2"
            ]
          },
          "metadata": {},
          "execution_count": 177
        }
      ]
    },
    {
      "cell_type": "markdown",
      "metadata": {
        "id": "bTqWSItEgREV"
      },
      "source": [
        "Reconfiguring the dataset to get to its original state of 4 features as I want to make model for the same data set with the K-means clustering direct function."
      ]
    },
    {
      "cell_type": "code",
      "metadata": {
        "colab": {
          "base_uri": "https://localhost:8080/",
          "height": 295
        },
        "id": "vY7cTkz7_aRv",
        "outputId": "190d48f9-c697-40d1-be38-a764d7053123"
      },
      "source": [
        "#Initialize a list of clusters from 1 to 10 clusters \n",
        "\n",
        "clusters = [1,2,3,4,5,6,7,8,9,10]\n",
        "\n",
        "#Create an empty list in order to store the inertia values \n",
        "\n",
        "inertia_values = []\n",
        "\n",
        "for cluster in clusters:\n",
        "    \n",
        "    #Build a k-means model for each cluster value\n",
        "    \n",
        "    k_means = KMeans(n_clusters = cluster)\n",
        "    \n",
        "    #Fit the model to the data\n",
        "    \n",
        "    k_means.fit(movies_df_1_)\n",
        "    \n",
        "    # Store inertia value of each model into the empty list \n",
        "    \n",
        "    inertia_values.append(k_means.inertia_)\n",
        "    \n",
        "# Plot the result\n",
        "\n",
        "sns.lineplot(x = clusters, y = inertia_values)\n",
        "plt.xlabel('Number of Clusters')\n",
        "plt.ylabel('Inertia Value')\n",
        "plt.title('Number of Clusters Vs. Inertia Values')\n",
        "plt.show()"
      ],
      "execution_count": null,
      "outputs": [
        {
          "output_type": "display_data",
          "data": {
            "image/png": "[encoded data removed]",
            "text/plain": [
              "<Figure size 432x288 with 1 Axes>"
            ]
          },
          "metadata": {
            "needs_background": "light"
          }
        }
      ]
    },
    {
      "cell_type": "markdown",
      "metadata": {
        "id": "IWUIgR7MhUyu"
      },
      "source": [
        "The way to find how many clusters to keep, I have plotted the Inertia values against the Number of clusters to find the Elbow point."
      ]
    },
    {
      "cell_type": "code",
      "metadata": {
        "colab": {
          "base_uri": "https://localhost:8080/"
        },
        "id": "euoQxjCxOvwo",
        "outputId": "fbe5b9fa-241d-417f-df1e-36ce90f33228"
      },
      "source": [
        "#Initializing K-means with 4 clusters\n",
        "\n",
        "k_means_model = KMeans(n_clusters = 4)\n",
        "\n",
        "#Fitting the model on the data\n",
        "\n",
        "k_means_model.fit(movies_df_1_)"
      ],
      "execution_count": null,
      "outputs": [
        {
          "output_type": "execute_result",
          "data": {
            "text/plain": [
              "KMeans(algorithm='auto', copy_x=True, init='k-means++', max_iter=300,\n",
              "       n_clusters=4, n_init=10, n_jobs=None, precompute_distances='auto',\n",
              "       random_state=None, tol=0.0001, verbose=0)"
            ]
          },
          "metadata": {},
          "execution_count": 179
        }
      ]
    },
    {
      "cell_type": "code",
      "metadata": {
        "colab": {
          "base_uri": "https://localhost:8080/"
        },
        "id": "dgSf1dMK_TUP",
        "outputId": "5021fd20-95d3-4cb0-d7e5-76fd31c7ff92"
      },
      "source": [
        "# Inertia of present model\n",
        "\n",
        "k_means_model.inertia_"
      ],
      "execution_count": null,
      "outputs": [
        {
          "output_type": "execute_result",
          "data": {
            "text/plain": [
              "306.34761904761905"
            ]
          },
          "metadata": {},
          "execution_count": 212
        }
      ]
    },
    {
      "cell_type": "code",
      "metadata": {
        "colab": {
          "base_uri": "https://localhost:8080/"
        },
        "id": "LbGnKAWi-hCI",
        "outputId": "477b0e25-5263-4180-9ee4-cade0d25f451"
      },
      "source": [
        "#Extracting labels \n",
        "\n",
        "target_labels = k_means_model.predict(movies_df_1_)\n",
        "\n",
        "#Printing the labels\n",
        "\n",
        "target_labels\n",
        "movies_df_1_.head()"
      ],
      "execution_count": null,
      "outputs": [
        {
          "output_type": "execute_result",
          "data": {
            "text/plain": [
              "   Comedy  Drama  Fantacy  Horror\n",
              "0       6      4        7       1\n",
              "1       9      6        9       1\n",
              "2      10      2        6       9\n",
              "4       9      9        9       5\n",
              "5       7      3        4       2"
            ]
          },
          "metadata": {},
          "execution_count": 211
        }
      ]
    },
    {
      "cell_type": "markdown",
      "metadata": {
        "id": "1rQSN8DuOfDz"
      },
      "source": [
        "### After plotting the k values for 10 values the **Elbow point is observed at value 4** so our prediction with K=4 is reasonable to do further predictions."
      ]
    },
    {
      "cell_type": "markdown",
      "metadata": {
        "id": "3RhSZT1tNaW_"
      },
      "source": [
        "# 6) Prediction"
      ]
    },
    {
      "cell_type": "code",
      "metadata": {
        "id": "umKUY_jFiMXR"
      },
      "source": [
        "def predict_weekly_movies (Comedy,Drama,Fantacy,Horror):\n",
        "  \n",
        "  classification = [\"Coupon_Group_1\", \"Coupon_Group_2\", \"Coupon_Group_3\", \"Coupon_Group_4\"]\n",
        "\n",
        "  print(\"Please select the rating from (1/10) for below movie choice:\")\n",
        "  Comedy = input(\"COMEDY \")\n",
        "  Drama = input(\"DRAMA \")\n",
        "  Fantacy = input(\"FANTACY \")\n",
        "  Horror = input(\"HORROR \")\n",
        "\n",
        "  print(\"\\nThe Coupon for your movie night is here:\\n\")\n",
        "  Weekly_movies = k_means.predict(np.array([Comedy,Drama,Fantacy,Horror]).reshape(1, -1))[0]\n",
        "  \n",
        "  return classification[Weekly_movies]"
      ],
      "execution_count": null,
      "outputs": []
    },
    {
      "cell_type": "markdown",
      "metadata": {
        "id": "3_4kcLhSjqbV"
      },
      "source": [
        "I have created a function **predict_weekly_movies** which takes data from students and accordingly predicts, how many movies this student whose data is entered watches weekly. "
      ]
    },
    {
      "cell_type": "code",
      "metadata": {
        "id": "kN9pkIzHAUMJ"
      },
      "source": [
        "for i in range(0,2):\n",
        "  print(\"Hello, Student\",i,\" Welcome to the movie night celebration!\\n\")\n",
        "  coupon = predict_weekly_movies(Comedy,Drama,Fantacy,Horror)\n",
        "  print(coupon)\n"
      ],
      "execution_count": null,
      "outputs": []
    },
    {
      "cell_type": "code",
      "metadata": {
        "colab": {
          "base_uri": "https://localhost:8080/",
          "height": 174
        },
        "id": "Jnq4mkEFo7JW",
        "outputId": "646fbbb9-e029-4d4f-f580-8ce778065c73"
      },
      "source": [
        "predict_weekly_movies(Comedy,Drama,Fantacy,Horror)"
      ],
      "execution_count": null,
      "outputs": [
        {
          "output_type": "stream",
          "name": "stdout",
          "text": [
            "Please select the rating from (1/10) for below movie choice:\n",
            "COMEDY 4\n",
            "DRAMA 4\n",
            "FANTACY 5\n",
            "HORROR 6\n",
            "\n",
            "The Coupon for your movie night is here:\n",
            "\n"
          ]
        },
        {
          "output_type": "execute_result",
          "data": {
            "application/vnd.google.colaboratory.intrinsic+json": {
              "type": "string"
            },
            "text/plain": [
              "'Coupon_Group_1'"
            ]
          },
          "metadata": {},
          "execution_count": 259
        }
      ]
    },
    {
      "cell_type": "markdown",
      "metadata": {
        "id": "tQpmYyGkOCZx"
      },
      "source": [
        "# 7) Summary"
      ]
    },
    {
      "cell_type": "markdown",
      "metadata": {
        "id": "XrjzQ2CTVHf8"
      },
      "source": [
        "The model has predicted that for the UOP movie night, 4 groups (clusters)to be created. (This information is derived from the way we have found the Elbow points). The students can be divided into main 4 groups and each student can get into particular group. The group student will be part of depends on the choises student selects for the questions given, and accordingly will get the coupon to that group."
      ]
    }
  ]
}